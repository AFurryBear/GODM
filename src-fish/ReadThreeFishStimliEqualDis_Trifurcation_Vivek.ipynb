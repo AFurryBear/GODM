{
 "cells": [
  {
   "cell_type": "markdown",
   "metadata": {},
   "source": [
    "# ReadThreeFishStimliEqualDis_Trifurcation_Vivek"
   ]
  },
  {
   "cell_type": "code",
   "execution_count": 1,
   "metadata": {},
   "outputs": [],
   "source": [
    "# import system libraries\n",
    "import numpy as np\n",
    "import pandas as pd\n",
    "import matplotlib.pyplot as plt### virtual fish swims with 0.12 m  circle without background\n",
    "import pickle\n",
    "import seaborn as sns\n",
    "import matplotlib\n",
    "from copy import deepcopy\n",
    "%matplotlib inline"
   ]
  },
  {
   "cell_type": "markdown",
   "metadata": {},
   "source": [
    "## Organise with class data"
   ]
  },
  {
   "cell_type": "code",
   "execution_count": 2,
   "metadata": {},
   "outputs": [],
   "source": [
    "Speeds = np.arange(1,1.01,0.5)\n",
    "LRDs   = np.arange(0.005,0.101,0.005)\n",
    "\n",
    "ReadData = True\n",
    "\"\"\"\n",
    "Read saved data\n",
    "\"\"\"\n",
    "if ReadData:\n",
    "    filename = '../Data/fish/3VF_Trifurcation_data'\n",
    "    infile = open(filename,'rb')\n",
    "    new_dict = pickle.load(infile)\n",
    "    Results = new_dict['Results']\n",
    "    Xs = new_dict['Xs']\n",
    "    Ys = new_dict['Ys']\n",
    "    infile.close()"
   ]
  },
  {
   "cell_type": "code",
   "execution_count": 3,
   "metadata": {},
   "outputs": [],
   "source": [
    "Results_exp = deepcopy(Results)"
   ]
  },
  {
   "cell_type": "code",
   "execution_count": 4,
   "metadata": {},
   "outputs": [
    {
     "data": {
      "image/png": "[encoded data removed]",
      "text/plain": [
       "<Figure size 43.2x144 with 1 Axes>"
      ]
     },
     "metadata": {
      "needs_background": "light"
     },
     "output_type": "display_data"
    }
   ],
   "source": [
    "Rotate=False\n",
    "Results_new = deepcopy(Results_exp)\n",
    "y = np.linspace(-0.15,0.15,100)\n",
    "\n",
    "matplotlib.rcParams.update({'font.size': 8})\n",
    "\n",
    "iLRDs = len(LRDs)\n",
    "if Rotate:\n",
    "    fig1, ax1 = plt.subplots(nrows=1,ncols=len(Speeds),sharex=True,sharey=True,figsize=(6.7/5.*len(Speeds),3.15/5.))\n",
    "    ax1.invert_yaxis()  # Invert y axis\n",
    "else:\n",
    "    fig1, ax1 = plt.subplots(nrows=1,ncols=len(Speeds),sharex=True,sharey=True,figsize=(0.6*len(Speeds),2))\n",
    "ifig = 1\n",
    "\n",
    "\n",
    "AllBranchPlots = []\n",
    "\n",
    "for ispeed,speed in enumerate(Speeds):\n",
    "\n",
    "    Result_filter = np.zeros((100,iLRDs))\n",
    "    for ilrd, lrd in enumerate(LRDs):\n",
    "    \n",
    "        aaa = np.mean(Results_new[:,:,ilrd,ispeed],axis=1)\n",
    "        Result_filter[:,ilrd] =  (aaa - np.min(aaa))/(np.max(aaa) - np.min(aaa))\n",
    "\n",
    "    x = np.append(LRDs,LRDs[-1]+np.diff(LRDs)[0])-0.5*np.diff(LRDs)[0]\n",
    "\n",
    "    z = Result_filter\n",
    "\n",
    "    if Rotate:\n",
    "        ax1.pcolor(y,x,z.T,rasterized=True)\n",
    "\n",
    "    else:\n",
    "        ax1.pcolor(x,y,z,rasterized=True)\n",
    "\n",
    "    AllBranchPlots.append(Result_filter)\n",
    "    TLabel = []\n",
    "    x1 = x\n",
    "    y1 = x1/2.0\n",
    "    y2 = -y1\n",
    "\n",
    "\n",
    "    ax1.set_title('Speed '+ str(round(Speeds[ispeed]*0.04,3)) + '(m/s)')\n",
    "    ax1.tick_params(pad=1)\n",
    "\n",
    "    ax1.spines['right'].set_visible(False)\n",
    "    ax1.spines['top'].set_visible(False)\n",
    "    ax1.spines['bottom'].set_visible(False)\n",
    "    ax1.spines['left'].set_visible(False)\n",
    "    \n",
    "    ax1.set_xticks([0,0.05,0.1])\n",
    "    ax1.set_xticklabels(['0','0.05','0.1'])\n",
    "    ax1.set_yticks([-0.15,-0.1,-0.05,0,0.05,0.1,0.15])\n",
    "    ax1.set_yticklabels(['-0.15','-0.1','-0.05','0','0.05','0.1','0.15'])\n",
    "    \n",
    "    ax1.axis('equal')\n",
    "\n",
    "\n",
    "if Rotate:\n",
    "    fig1.text(0.5,-0.35, r'$LRD_{RealFish_to_Center}$ (m)', ha=\"center\", va=\"center\",fontsize = 8)\n",
    "    fig1.text(0.07,0.5, r'$LRD_{VirtualFish}$ (m)', ha=\"center\", va=\"center\", rotation=90,fontsize = 8)\n",
    "else:\n",
    "    fig1.subplots_adjust(left=0.01, right=1,  bottom=0.1,  top=1.0, wspace=0.1, hspace=0)\n",
    "    fig1.text(0.5,0.01, r'$LRD_{VirtualFish} $ (m)', ha=\"center\", va=\"center\",fontsize = 8)\n",
    "    fig1.text(-0.55,0.5, r'$LRD_{RealFish\\_to\\_Center}$ (m)', ha=\"center\", va=\"center\", rotation=90,fontsize = 8)\n",
    "    \n",
    "\n",
    "fig1.show()\n"
   ]
  },
  {
   "cell_type": "code",
   "execution_count": 5,
   "metadata": {},
   "outputs": [
    {
     "name": "stdout",
     "output_type": "stream",
     "text": [
      "   time        x        y   left_right_distance   front_back_distance\n",
      "0    10  0.05216  499.970                     0                  75.0\n",
      "1    20  0.05216  499.932                     0                  75.0\n",
      "2    30  0.05216  499.881                     0                  75.0\n",
      "3    40  0.05216  499.871                     0                  75.0\n",
      "4    50  0.05216  499.822                     0                  75.0\n",
      "Index(['time', ' x', ' y', ' left_right_distance', ' front_back_distance'], dtype='object')\n",
      "0.134642\n"
     ]
    }
   ],
   "source": [
    "fn = 'fishdata_n3_20200525'\n",
    "\n",
    "df = pd.read_csv('../Data/fish/'+fn+'.csv')\n",
    "# df = pd.read_csv('./Data_VivekSimulation/geometry_3VF_MN.csv')\n",
    "print(df.head())\n",
    "print(df.keys())\n",
    "\n",
    "print(np.max(df[' x'].values))"
   ]
  },
  {
   "cell_type": "code",
   "execution_count": 6,
   "metadata": {},
   "outputs": [],
   "source": [
    "a_lrds = df[' left_right_distance'].values\n",
    "\n",
    "s_lrds = np.unique(a_lrds)\n",
    "\n",
    "Results = []\n",
    "Results.append([])\n",
    "\n",
    "for ilrd, lrd in enumerate(s_lrds):\n",
    "    x = df[' x'][a_lrds==lrd].values\n",
    "    y = df[' y'][a_lrds==lrd].values\n",
    "\n",
    "    counts,xedges,yedges = np.histogram2d(y,x,bins=100,range=[[-250, 1250], [-0.1, 0.2]])\n",
    "    Results[-1].append(counts)\n",
    "\n",
    "\n",
    "Results = np.array(Results)\n",
    "Results = np.swapaxes(Results,0,2)\n",
    "Results = np.swapaxes(Results,1,3)\n",
    "Results = np.swapaxes(Results,2,3)\n",
    "\n",
    "\n",
    "Results_sim = deepcopy(Results)"
   ]
  },
  {
   "cell_type": "code",
   "execution_count": 7,
   "metadata": {},
   "outputs": [
    {
     "data": {
      "image/png": "[encoded data removed]",
      "text/plain": [
       "<Figure size 43.2x138.24 with 1 Axes>"
      ]
     },
     "metadata": {
      "needs_background": "light"
     },
     "output_type": "display_data"
    }
   ],
   "source": [
    "\n",
    "Speeds = np.arange(1,1.01,0.5)\n",
    "\n",
    "Rotate=False\n",
    "Results_new = deepcopy(Results_sim)\n",
    "y = np.linspace(-250,1250,100)\n",
    "\n",
    "matplotlib.rcParams.update({'font.size': 8})\n",
    "\n",
    "iLRDs = len(s_lrds)\n",
    "if Rotate:\n",
    "    fig1, ax1 = plt.subplots(nrows=1,ncols=len(Speeds),sharex=True,sharey=True,figsize=(6.7/5.*len(Speeds),3.15/5.))\n",
    "    ax1.invert_yaxis()  # Invert y axis\n",
    "else:\n",
    "    fig1, ax1 = plt.subplots(nrows=1,ncols=len(Speeds),sharex=True,sharey=True,figsize=(0.6*len(Speeds),1.92))\n",
    "ifig = 1\n",
    "\n",
    "\n",
    "AllBranchPlots = []\n",
    "\n",
    "for ispeed,speed in enumerate(Speeds):\n",
    "\n",
    "    Result_filter = np.zeros((100,iLRDs))\n",
    "    for ilrd, lrd in enumerate(s_lrds):\n",
    "    \n",
    "        aaa = np.mean(Results_new[:,:,ilrd,ispeed],axis=1)\n",
    "\n",
    "        Result_filter[:,ilrd] =  (aaa - np.min(aaa))/(np.max(aaa) - np.min(aaa))\n",
    "\n",
    "    x = np.append(s_lrds,s_lrds[-1]+np.diff(s_lrds)[0])\n",
    "\n",
    "    z = Result_filter\n",
    "\n",
    "    if Rotate:\n",
    "        ax1.pcolor(y,x,z.T,rasterized=True)\n",
    "\n",
    "    else:\n",
    "        ax1.pcolor(x,y,z,rasterized=True)\n",
    "        \n",
    "#     ax1.plot([50,500],[500,1000],'r',alpha=0.3)\n",
    "#     ax1.plot([50,500],[500,0],'r',alpha=0.3)\n",
    "    AllBranchPlots.append(Result_filter)\n",
    "    TLabel = []\n",
    "    x1 = x\n",
    "    y1 = x1/2.0\n",
    "    y2 = -y1\n",
    "\n",
    "\n",
    "#     ax1.set_title('Speed '+ str(round(Speeds[ispeed]*0.04,3)) + '(m/s)')\n",
    "    ax1.tick_params(pad=1)\n",
    "\n",
    "    ax1.spines['right'].set_visible(False)\n",
    "    ax1.spines['top'].set_visible(False)\n",
    "    ax1.spines['bottom'].set_visible(False)\n",
    "    ax1.spines['left'].set_visible(False)\n",
    "    \n",
    "    ax1.set_xticks([0,255,510])\n",
    "    ax1.set_xticklabels(['0','0.05','0.1'])\n",
    "    ax1.set_yticks([-250,0,250,500,750,1000,1250])\n",
    "    ax1.set_yticklabels(['-0.15','-0.1','-0.05','0','0.05','0.1','0.15'])\n",
    "    ax1.axis('equal')\n",
    "\n",
    "\n",
    "if Rotate:\n",
    "    fig1.text(0.5,-0.35, r'$LRD_{RealFish_to_Center}$ (m)', ha=\"center\", va=\"center\",fontsize = 8)\n",
    "    fig1.text(0.07,0.5, r'$LRD_{VirtualFish}$ (m)', ha=\"center\", va=\"center\", rotation=90,fontsize = 8)\n",
    "else:\n",
    "    fig1.subplots_adjust(left=0.01, right=1,  bottom=0.1,  top=1.0, wspace=0.1, hspace=0)\n",
    "fig1.show()\n"
   ]
  },
  {
   "cell_type": "code",
   "execution_count": null,
   "metadata": {},
   "outputs": [],
   "source": []
  }
 ],
 "metadata": {
  "interpreter": {
   "hash": "8c120e44f289b7a13ea6aaf608fb8385715b367419f5a317e56cf1e87522007f"
  },
  "kernelspec": {
   "display_name": "Python 3",
   "language": "python",
   "name": "python3"
  },
  "language_info": {
   "codemirror_mode": {
    "name": "ipython",
    "version": 3
   },
   "file_extension": ".py",
   "mimetype": "text/x-python",
   "name": "python",
   "nbconvert_exporter": "python",
   "pygments_lexer": "ipython3",
   "version": "3.7.1"
  }
 },
 "nbformat": 4,
 "nbformat_minor": 4
}
