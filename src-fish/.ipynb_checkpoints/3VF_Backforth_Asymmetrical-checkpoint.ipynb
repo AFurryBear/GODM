{
 "cells": [
  {
   "cell_type": "markdown",
   "metadata": {},
   "source": [
    "# ReadThreeFishStimliParallelAsymmetrical"
   ]
  },
  {
   "cell_type": "code",
   "execution_count": 1,
   "metadata": {},
   "outputs": [],
   "source": [
    "# import system libraries\n",
    "import numpy as np\n",
    "import pandas as pd\n",
    "import matplotlib.pyplot as plt### virtual fish swims with 0.12 m  circle without background\n",
    "import seaborn as sns\n",
    "from scipy.signal import find_peaks\n",
    "%matplotlib inline"
   ]
  },
  {
   "cell_type": "code",
   "execution_count": 2,
   "metadata": {},
   "outputs": [
    {
     "name": "stdout",
     "output_type": "stream",
     "text": [
      "   Unnamed: 0  distance lag  left-right position\n",
      "0           0     -0.045610             0.045920\n",
      "1           1     -0.045365             0.045663\n",
      "2           2     -0.045157             0.045435\n",
      "3           3     -0.044996             0.045234\n",
      "4           4     -0.044870             0.045058\n"
     ]
    }
   ],
   "source": [
    "dfe  = pd.read_csv('../Data/fish/LRD12=0.09_LRD23=0.03.csv')\n",
    "xse  = dfe['left-right position'].values\n",
    "yse  = dfe['distance lag'].values\n",
    "print(dfe.head())"
   ]
  },
  {
   "cell_type": "code",
   "execution_count": 3,
   "metadata": {},
   "outputs": [
    {
     "name": "stdout",
     "output_type": "stream",
     "text": [
      "   time         x        y   centre_left_distance   centre_right_distance   nu\n",
      "0    10 -0.000117  503.095                    450                     150   75\n",
      "1    20 -0.000117  507.208                    450                     150   75\n",
      "2    30 -0.000117  511.253                    450                     150   75\n",
      "3    40 -0.000117  515.437                    450                     150   75\n",
      "4    50 -0.000117  519.621                    450                     150   75\n",
      "Index(['time', ' x', ' y', ' centre_left_distance', ' centre_right_distance',\n",
      "       ' nu'],\n",
      "      dtype='object')\n",
      "0.0782438\n"
     ]
    }
   ],
   "source": [
    "fn = 'geometry'\n",
    "df = pd.read_csv('../Data/fish/'+fn+'.csv')\n",
    "print(df.head())\n",
    "print(df.keys())\n",
    "print(np.max(df[' x'].values))"
   ]
  },
  {
   "cell_type": "code",
   "execution_count": 4,
   "metadata": {},
   "outputs": [],
   "source": [
    "a_lrds = df[' centre_right_distance'].values\n",
    "\n",
    "s_lrds = np.unique(a_lrds)\n",
    "\n",
    "Results = []\n",
    "Results.append([])\n",
    "\n",
    "for ilrd, lrd in enumerate(s_lrds):\n",
    "    xss = df[' x'][a_lrds==lrd].values\n",
    "    yss = df[' y'][a_lrds==lrd].values\n",
    "    \n",
    "yss  = 0.0002*yss - 0.1"
   ]
  },
  {
   "cell_type": "code",
   "execution_count": 5,
   "metadata": {},
   "outputs": [
    {
     "data": {
      "image/png": "[encoded data removed]",
      "text/plain": [
       "<Figure size 158.74x136.063 with 2 Axes>"
      ]
     },
     "metadata": {
      "needs_background": "light"
     },
     "output_type": "display_data"
    }
   ],
   "source": [
    "\n",
    "fig, axs = plt.subplots(nrows=2, ncols=1, sharex=True, sharey='row', figsize=(0.8*7*1/2.54,0.8*2*3/2.54))\n",
    "\n",
    "ax = axs[1]\n",
    "sns.distplot(xse,ax=ax,rug_kws=dict(rasterized=True),hist=False)\n",
    "\n",
    "ax.axvline(-0.06,ls='-',color='r',alpha=0.5)\n",
    "ax.axvline(0.03,ls='-',color='r',alpha=0.5)\n",
    "ax.axvline(0.06,ls='-',color='r',alpha=0.5)\n",
    "\n",
    "tx = ax.lines[0].get_xdata()\n",
    "ty = ax.lines[0].get_ydata()\n",
    "\n",
    "peaks = find_peaks(ty)\n",
    "\n",
    "itext = 0\n",
    "for peak in peaks[0]:\n",
    "    if ty[peak] > 8:\n",
    "        ax.axvline(tx[peak],ls=':',color='0.2',alpha=0.5)\n",
    "        itext+=1\n",
    "        \n",
    "ax = axs[0]\n",
    "sns.distplot(yss,ax=ax,rug_kws=dict(rasterized=True),hist=False)\n",
    "\n",
    "ax.axvline(-0.06,ls='-',color='r',alpha=0.5)\n",
    "ax.axvline(0.03,ls='-',color='r',alpha=0.5)\n",
    "ax.axvline(0.06,ls='-',color='r',alpha=0.5)\n",
    "\n",
    "tx = ax.lines[0].get_xdata()\n",
    "ty = ax.lines[0].get_ydata()\n",
    "\n",
    "peaks = find_peaks(ty)\n",
    "\n",
    "itext = 0\n",
    "for peak in peaks[0]:\n",
    "    if ty[peak] > 20:\n",
    "        ax.axvline(tx[peak],ls=':',color='0.2',alpha=0.5)\n",
    "        itext+=1\n",
    "plt.xlim([-0.1,0.1])\n",
    "\n",
    "plt.show()"
   ]
  },
  {
   "cell_type": "code",
   "execution_count": null,
   "metadata": {},
   "outputs": [],
   "source": []
  }
 ],
 "metadata": {
  "interpreter": {
   "hash": "8c120e44f289b7a13ea6aaf608fb8385715b367419f5a317e56cf1e87522007f"
  },
  "kernelspec": {
   "display_name": "Python 3",
   "language": "python",
   "name": "python3"
  },
  "language_info": {
   "codemirror_mode": {
    "name": "ipython",
    "version": 3
   },
   "file_extension": ".py",
   "mimetype": "text/x-python",
   "name": "python",
   "nbconvert_exporter": "python",
   "pygments_lexer": "ipython3",
   "version": "3.7.1"
  }
 },
 "nbformat": 4,
 "nbformat_minor": 4
}
