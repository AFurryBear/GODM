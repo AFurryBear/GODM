{
 "cells": [
  {
   "cell_type": "code",
   "execution_count": 1,
   "metadata": {},
   "outputs": [],
   "source": [
    "# import system libraries\n",
    "import numpy as np\n",
    "import matplotlib.pyplot as plt### virtual fish swims with 0.12 m  circle without background\n",
    "import pickle\n",
    "%matplotlib inline"
   ]
  },
  {
   "cell_type": "code",
   "execution_count": 2,
   "metadata": {},
   "outputs": [],
   "source": [
    "\"\"\"\n",
    "Read saved data\n",
    "\"\"\"\n",
    "ReadData = True\n",
    "if ReadData:\n",
    "    filename = '../Data/fish/SpeedVSposition'\n",
    "    infile   = open(filename,'rb')\n",
    "    new_dict = pickle.load(infile)\n",
    "    nsx_rf   = new_dict['nsx_rf']\n",
    "    nsy_rf   = new_dict['nsy_rf']\n",
    "    psxs_rf  = new_dict['psxs_rf']\n",
    "    psys_rf  = new_dict['psys_rf']\n",
    "    nsx_vf   = new_dict['nsx_vf']\n",
    "    nsy_vf   = new_dict['nsy_vf']\n",
    "    psxs_vf  = new_dict['psxs_vf']\n",
    "    psys_vf  = new_dict['psys_vf']\n",
    "    xlim     = new_dict['xlim']\n",
    "    ylim     = new_dict['ylim']\n",
    "    nbinx    = new_dict['nbinx']\n",
    "    nbiny    = new_dict['nbiny']\n",
    "    \n",
    "    infile.close()\n"
   ]
  },
  {
   "cell_type": "code",
   "execution_count": 3,
   "metadata": {},
   "outputs": [
    {
     "name": "stderr",
     "output_type": "stream",
     "text": [
      "/home/liang/.local/lib/python3.7/site-packages/ipykernel_launcher.py:28: MatplotlibDeprecationWarning: \n",
      "The set_clim function was deprecated in Matplotlib 3.1 and will be removed in 3.3. Use ScalarMappable.set_clim instead.\n",
      "/home/liang/.local/lib/python3.7/site-packages/ipykernel_launcher.py:51: MatplotlibDeprecationWarning: \n",
      "The set_clim function was deprecated in Matplotlib 3.1 and will be removed in 3.3. Use ScalarMappable.set_clim instead.\n"
     ]
    },
    {
     "data": {
      "text/plain": [
       "Text(0.03, 0.5, '$y$ (m)')"
      ]
     },
     "execution_count": 3,
     "metadata": {},
     "output_type": "execute_result"
    },
    {
     "data": {
      "image/png": "[encoded data removed]",
      "text/plain": [
       "<Figure size 255.118x136.8 with 6 Axes>"
      ]
     },
     "metadata": {
      "needs_background": "light"
     },
     "output_type": "display_data"
    }
   ],
   "source": [
    "nsx_vf=nsx_rf = np.linspace(xlim[0],xlim[1],nbinx)\n",
    "nsy_vf=nsy_rf = np.linspace(ylim[0],ylim[1],nbiny)\n",
    "\n",
    "vmin,vmax     = -0.02,0.02\n",
    "\n",
    "\n",
    "fig, axs = plt.subplots(ncols=2,nrows=2,sharex=True,\n",
    "               sharey=True,figsize=(9/2.54,0.95*2))\n",
    "plt.setp(axs.flat, aspect=1.0, adjustable='box')\n",
    "\n",
    "\n",
    "\n",
    "ax = axs[0][0]\n",
    "tmpax = ax.pcolor(nsx_rf,nsy_rf,psxs_rf,vmin=vmin,vmax=vmax,cmap='bwr',rasterized=True)\n",
    "\n",
    "ax = axs[0][1]\n",
    "tmpax = ax.pcolor(nsx_vf,nsy_vf,psxs_vf,vmin=vmin,vmax=vmax,cmap='bwr',rasterized=True)\n",
    "\n",
    "\n",
    "fig.subplots_adjust(bottom=0.1, right=0.9, top=0.9, hspace=0.4)\n",
    "\n",
    "\n",
    "height = axs[0][-1].get_position().height\n",
    "y0 = axs[0][-1].get_position().p0[1]\n",
    "cax = fig.add_axes([0.93, y0, 0.02, height])\n",
    "hbar = fig.colorbar(tmpax,cax=cax)\n",
    "hbar.ax.artists.remove(hbar.outline)   \n",
    "hbar.set_clim([vmin,vmax])\n",
    "hbar.set_ticks([vmin,vmax])\n",
    "hbar.set_ticklabels([str(vmin),str(vmax)])\n",
    "cax.set_ylabel('Turning speed \\n $S_t$ ($m/s$)',fontsize=6)\n",
    "\n",
    "\n",
    "\n",
    "\n",
    "vmin,vmax = 0.02,0.06\n",
    "\n",
    "ax = axs[1][0]\n",
    "tmpax = ax.pcolor(nsx_vf,nsy_vf,psys_rf,vmin=vmin,vmax=vmax,cmap='viridis',rasterized=True)\n",
    "# tmpax = ax.pcolor(nsx_vf,nsy_vf,psys_rf,vmin=vmin,vmax=vmax,cmap='bwr',rasterized=True)\n",
    "\n",
    "ax = axs[1][1]\n",
    "tmpax = ax.pcolor(nsx_vf,nsy_vf,psys_vf,vmin=vmin,vmax=vmax,cmap='viridis',rasterized=True)\n",
    "# tmpax = ax.pcolor(nsx_vf,nsy_vf,psys_vf,vmin=vmin,vmax=vmax,cmap='bwr',rasterized=True)\n",
    "\n",
    "height = axs[1][-1].get_position().height\n",
    "y0 = axs[1][-1].get_position().p0[1]\n",
    "cax = fig.add_axes([0.93, y0, 0.02, height])\n",
    "hbar = fig.colorbar(tmpax,cax=cax)\n",
    "hbar.ax.artists.remove(hbar.outline)   \n",
    "hbar.set_clim([vmin,vmax])\n",
    "hbar.set_ticks([vmin,vmax])\n",
    "hbar.set_ticklabels([str(vmin),str(vmax)])\n",
    "cax.set_ylabel('Forward speed \\n $S_f$ ($m/s$)',fontsize=6)\n",
    "\n",
    "\n",
    "for ii in range(2):\n",
    "    for jj in range(2):\n",
    "        axs[ii][jj].spines['right'].set_visible(False)\n",
    "        axs[ii][jj].spines['top'].set_visible(False)\n",
    "        axs[ii][jj].spines['bottom'].set_visible(False)\n",
    "        axs[ii][jj].spines['left'].set_visible(False)\n",
    "\n",
    "        axs[ii][jj].set_xlim([-0.1,0.1])\n",
    "        axs[ii][jj].set_xticks([-0.1,0,0.1])\n",
    "        axs[ii][jj].set_xticklabels(['-0.1','0','0.1'])\n",
    "        axs[ii][jj].set_ylim([0,0.1])\n",
    "        axs[ii][jj].set_yticks([0,0.1])\n",
    "        axs[ii][jj].set_yticklabels(['0','0.1'])\n",
    "        \n",
    "fig.text(0.5,-0.1, r'$x$ (m)', ha=\"center\", va=\"center\",fontsize = 7)\n",
    "fig.text(0.03,0.5, r'$y$ (m)', ha=\"center\", va=\"center\", rotation=90,fontsize = 7)  "
   ]
  },
  {
   "cell_type": "code",
   "execution_count": null,
   "metadata": {},
   "outputs": [],
   "source": []
  }
 ],
 "metadata": {
  "interpreter": {
   "hash": "8c120e44f289b7a13ea6aaf608fb8385715b367419f5a317e56cf1e87522007f"
  },
  "kernelspec": {
   "display_name": "Python 3",
   "language": "python",
   "name": "python3"
  },
  "language_info": {
   "codemirror_mode": {
    "name": "ipython",
    "version": 3
   },
   "file_extension": ".py",
   "mimetype": "text/x-python",
   "name": "python",
   "nbconvert_exporter": "python",
   "pygments_lexer": "ipython3",
   "version": "3.7.1"
  }
 },
 "nbformat": 4,
 "nbformat_minor": 4
}
