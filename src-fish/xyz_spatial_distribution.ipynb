{
 "cells": [
  {
   "cell_type": "code",
   "execution_count": 1,
   "metadata": {},
   "outputs": [],
   "source": [
    "# import system libraries\n",
    "import matplotlib.pyplot as plt### virtual fish swims with 0.12 m  circle without background\n",
    "import pickle\n",
    "%matplotlib inline"
   ]
  },
  {
   "cell_type": "code",
   "execution_count": 2,
   "metadata": {},
   "outputs": [],
   "source": [
    "ReadData = True\n",
    "\n",
    "\"\"\"\n",
    "Read saved data\n",
    "\"\"\"\n",
    "if ReadData:\n",
    "    filename = '../Data/fish/xyz_spatial_distribution'\n",
    "    infile   = open(filename,'rb')\n",
    "    new_dict = pickle.load(infile)\n",
    "    all_xs  = new_dict['xs_rf']\n",
    "    all_ys = new_dict['ys_rf']\n",
    "    all_zs = new_dict['zs_rf']\n",
    "    xs  = new_dict['xs_rf']\n",
    "    ds = new_dict['ys_rf']\n",
    "    zs = new_dict['zs_rf']\n",
    "    \n",
    "    infile.close()"
   ]
  },
  {
   "cell_type": "code",
   "execution_count": 4,
   "metadata": {},
   "outputs": [
    {
     "name": "stderr",
     "output_type": "stream",
     "text": [
      "/home/liang/.local/lib/python3.7/site-packages/ipykernel_launcher.py:33: MatplotlibDeprecationWarning: \n",
      "The get_clim function was deprecated in Matplotlib 3.1 and will be removed in 3.3. Use ScalarMappable.get_clim instead.\n"
     ]
    },
    {
     "data": {
      "image/png": "[encoded data removed]",
      "text/plain": [
       "<Figure size 226.772x111.6 with 5 Axes>"
      ]
     },
     "metadata": {
      "needs_background": "light"
     },
     "output_type": "display_data"
    }
   ],
   "source": [
    "fig,ax = plt.subplots(nrows=2,ncols=2,sharex=True,sharey='row',figsize=(8/2.54,1.55))\n",
    "plt.setp(ax.flat, aspect=1.0, adjustable='box')\n",
    "\n",
    "tmpax=ax[0][0].hist2d(all_xs,all_ys,bins=[50,25],rasterized=True,range=[[-0.05,0.05],[-0.05,0]])\n",
    "tmpax=ax[1][0].hist2d(all_xs,all_zs,bins=[50,25],rasterized=True,range=[[-0.05,0.05],[-0.01,0.04]])\n",
    "ax[1][0].plot([-0.05,0.05],[0,0],'--',c='1')\n",
    "ax[0][0].set_yticks([-0.05,0])\n",
    "ax[0][0].set_yticklabels(['-0.05','0'])\n",
    "ax[1][0].set_yticks([0,0.03])\n",
    "ax[1][0].set_yticklabels(['0','0.03'])\n",
    "ax[1][0].set_xticks([-0.05,0,0.05])\n",
    "ax[1][0].set_xticklabels(['-0.05','0','0.05'])\n",
    "\n",
    "\n",
    "tmpax=ax[0][1].hist2d(xs,ds,bins=[50,25],rasterized=True,range=[[-0.05,0.05],[-0.05,0]])\n",
    "tmpax=ax[1][1].hist2d(xs,zs,bins=[50,25],rasterized=True,range=[[-0.05,0.05],[-0.01,0.04]])\n",
    "ax[0][1].plot([0],[0],'.',ms=3,color='r',zorder=10)\n",
    "ax[1][1].plot([-0.05,0.05],[0,0],'--',c='1')\n",
    "ax[0][1].set_yticks([-0.05,0])\n",
    "ax[0][1].set_yticklabels(['-0.05','0'])\n",
    "ax[1][1].set_yticks([0,0.03])\n",
    "ax[1][1].set_yticklabels(['0','0.03'])\n",
    "ax[1][1].set_xticks([-0.05,0,0.05])\n",
    "ax[1][1].set_xticklabels(['-0.05','0','0.05'])\n",
    "\n",
    "\n",
    "fig.subplots_adjust(bottom=0.1, right=0.9, top=0.9, hspace=0.4)\n",
    "height = ax[-1][-1].get_position().height\n",
    "y0 = ax[-1][-1].get_position().p0[1]\n",
    "cax = fig.add_axes([0.94, y0, 0.02, height])\n",
    "hbar = fig.colorbar(tmpax[-1],cax=cax,label='Normalised density')\n",
    "hbar.ax.artists.remove(hbar.outline)\n",
    "ylim = hbar.get_clim()\n",
    "hbar.set_ticks(ylim)\n",
    "hbar.set_ticklabels(['0','1'])\n",
    "\n",
    "\n",
    "fig.text(0.5,-0.03, r'$x$ (m)', ha=\"center\", va=\"center\",fontsize = 7)\n",
    "fig.text(0.02,0.75, r'$d$ (m)', ha=\"center\", va=\"center\", rotation=90,fontsize = 7)\n",
    "fig.text(0.02,0.25, r'$z$ (m)', ha=\"center\", va=\"center\", rotation=90,fontsize = 7)\n",
    "\n",
    "plt.show()"
   ]
  },
  {
   "cell_type": "code",
   "execution_count": null,
   "metadata": {},
   "outputs": [],
   "source": []
  }
 ],
 "metadata": {
  "interpreter": {
   "hash": "8c120e44f289b7a13ea6aaf608fb8385715b367419f5a317e56cf1e87522007f"
  },
  "kernelspec": {
   "display_name": "Python 3",
   "language": "python",
   "name": "python3"
  },
  "language_info": {
   "codemirror_mode": {
    "name": "ipython",
    "version": 3
   },
   "file_extension": ".py",
   "mimetype": "text/x-python",
   "name": "python",
   "nbconvert_exporter": "python",
   "pygments_lexer": "ipython3",
   "version": "3.7.1"
  }
 },
 "nbformat": 4,
 "nbformat_minor": 4
}
