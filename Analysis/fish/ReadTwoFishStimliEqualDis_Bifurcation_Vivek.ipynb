{
 "cells": [
  {
   "cell_type": "markdown",
   "metadata": {},
   "source": [
    "# ReadTwoFishStimliEqualDis_Bifurcation_Vivek"
   ]
  },
  {
   "cell_type": "code",
   "execution_count": 1,
   "metadata": {},
   "outputs": [],
   "source": [
    "# import system libraries\n",
    "import numpy as np\n",
    "import pandas as pd\n",
    "import matplotlib.pyplot as plt### virtual fish swims with 0.12 m  circle without background\n",
    "\n",
    "import pickle\n",
    "import matplotlib\n",
    "from copy import deepcopy\n",
    "\n",
    "plt.style.use('paper')\n",
    "%matplotlib inline"
   ]
  },
  {
   "cell_type": "markdown",
   "metadata": {},
   "source": [
    "# read real fish data"
   ]
  },
  {
   "cell_type": "code",
   "execution_count": 2,
   "metadata": {},
   "outputs": [],
   "source": [
    "ReadData = True\n",
    "    \n",
    "\"\"\"\n",
    "Read saved data\n",
    "\"\"\"\n",
    "if ReadData:\n",
    "    filename  = '../Data/fish/2VF_Bifurcation_data'\n",
    "    infile    = open(filename,'rb')\n",
    "    new_dict  = pickle.load(infile)\n",
    "    Results   = new_dict['Results']\n",
    "    Xs        = new_dict['Xs']\n",
    "    Ys        = new_dict['Ys']\n",
    "    infile.close()\n",
    "#     print(new_dict)\n",
    "    "
   ]
  },
  {
   "cell_type": "code",
   "execution_count": 3,
   "metadata": {},
   "outputs": [
    {
     "name": "stderr",
     "output_type": "stream",
     "text": [
      "findfont: Font family ['sans-serif'] not found. Falling back to DejaVu Sans.\n"
     ]
    },
    {
     "data": {
      "image/png": "[encoded data removed]",
      "text/plain": [
       "<Figure size 43.2x100.8 with 1 Axes>"
      ]
     },
     "metadata": {
      "needs_background": "light"
     },
     "output_type": "display_data"
    }
   ],
   "source": [
    "\n",
    "Rotate=False\n",
    "Results_new = deepcopy(Results)\n",
    "\n",
    "y = np.linspace(-0.1,0.1,50)\n",
    "Speeds = np.arange(1.0,1.01,0.25)\n",
    "LRDs   = np.arange(0.01,0.12,0.005)\n",
    "ilmax  = 20\n",
    "\n",
    "\n",
    "matplotlib.rcParams.update({'font.size': 8})\n",
    "\n",
    "iLRDs = len(LRDs)\n",
    "if Rotate:\n",
    "    fig1, ax1 = plt.subplots(nrows=1,ncols=len(Speeds),sharex=True,sharey=True,figsize=(6.9/5.*len(Speeds),3.35/5.))\n",
    "    ax1.invert_yaxis()  # Invert y axis\n",
    "else:\n",
    "    fig1, ax1 = plt.subplots(nrows=1,ncols=len(Speeds),sharex=True,sharey=True,figsize=(0.6*len(Speeds),1.40))\n",
    "ifig = 1\n",
    "\n",
    "\n",
    "AllBranchPlots = []\n",
    "\n",
    "Result_filter = np.zeros((50,iLRDs))\n",
    "for ilrd, lrd in enumerate(LRDs):\n",
    "\n",
    "    aaa = np.mean(Results_new[:,:,ilrd],axis=1)\n",
    "    Result_filter[:,ilrd] =  (aaa - np.min(aaa))/(np.max(aaa) - np.min(aaa))\n",
    "\n",
    "x = np.append(LRDs,LRDs[-1]+np.diff(LRDs)[0])-0.5*np.diff(LRDs)[0]\n",
    "\n",
    "z = Result_filter\n",
    "\n",
    "if Rotate:\n",
    "    ax1.pcolor(y,x,z.T,rasterized=True)\n",
    "\n",
    "else:\n",
    "    ax1.pcolor(x[:ilmax],y,z[:,:ilmax],rasterized=True)\n",
    "\n",
    "AllBranchPlots.append(Result_filter)\n",
    "TLabel = []\n",
    "x1 = x\n",
    "y1 = x1/2.0\n",
    "y2 = -y1\n",
    "\n",
    "\n",
    "#     ax1.set_title('Speed '+ str(round(Speeds[ispeed]*0.04,3)) + '(m/s)')\n",
    "ax1.tick_params(pad=1)\n",
    "\n",
    "ax1.spines['right'].set_visible(False)\n",
    "ax1.spines['top'].set_visible(False)\n",
    "ax1.spines['bottom'].set_visible(False)\n",
    "ax1.spines['left'].set_visible(False)\n",
    "\n",
    "\n",
    "\n",
    "#     ax1.set_xlim([0,0.12])\n",
    "ax1.set_xticks([0,0.05,0.1])\n",
    "ax1.set_xticklabels(['0','0.05','0.1'])\n",
    "ax1.set_yticks([-0.1,-0.05,0,0.05,0.1])\n",
    "ax1.set_yticklabels(['-0.1','-0.05','0','0.05','0.1'])\n",
    "\n",
    "ax1.axis('equal')\n",
    "    \n",
    "    \n",
    "\n",
    "\n",
    "if Rotate:\n",
    "    fig1.text(0.5,-0.35, r'$LRD_{RealFish_to_Center}$ (m)', ha=\"center\", va=\"center\",fontsize = 8)\n",
    "    fig1.text(0.07,0.5, r'$LRD_{VirtualFish}$ (m)', ha=\"center\", va=\"center\", rotation=90,fontsize = 8)\n",
    "else:\n",
    "    fig1.subplots_adjust(left=0.01, right=1,  bottom=0.1,  top=1.0, wspace=0.1, hspace=0)\n",
    "\n",
    "fig1.show()\n"
   ]
  },
  {
   "cell_type": "markdown",
   "metadata": {},
   "source": [
    "# read simulation data"
   ]
  },
  {
   "cell_type": "code",
   "execution_count": 4,
   "metadata": {},
   "outputs": [
    {
     "name": "stdout",
     "output_type": "stream",
     "text": [
      "   time         x        y   left_right_distance   front_back_distance\n",
      "0    10 -0.032238  500.023                     0                  75.0\n",
      "1    20 -0.032238  500.037                     0                  75.0\n",
      "2    30 -0.032238  500.035                     0                  75.0\n",
      "3    40 -0.032238  500.041                     0                  75.0\n",
      "4    50 -0.032238  500.054                     0                  75.0\n",
      "Index(['time', ' x', ' y', ' left_right_distance', ' front_back_distance'], dtype='object')\n",
      "0.119822\n",
      "744.3489999999999\n",
      "256.999\n"
     ]
    }
   ],
   "source": [
    "fn = 'fishdata_n2_20200525'\n",
    "\n",
    "df = pd.read_csv('../Data/fish/'+fn+'.csv')\n",
    "# df = pd.read_csv('./Data_VivekSimulation/geometry_3VF_MN.csv')\n",
    "print(df.head())\n",
    "print(df.keys())\n",
    "\n",
    "print(np.max(df[' x'].values))\n",
    "print(np.max(df[' y'].values))\n",
    "print(np.min(df[' y'].values))\n"
   ]
  },
  {
   "cell_type": "code",
   "execution_count": 5,
   "metadata": {},
   "outputs": [],
   "source": [
    "a_lrds = df[' left_right_distance'].values\n",
    "\n",
    "s_lrds = np.unique(a_lrds)\n",
    "\n",
    "Results = []\n",
    "Results.append([])\n",
    "\n",
    "for ilrd, lrd in enumerate(s_lrds):\n",
    "    x = df[' x'][a_lrds==lrd].values\n",
    "    y = df[' y'][a_lrds==lrd].values\n",
    "\n",
    "    counts,xedges,yedges = np.histogram2d(y,x,bins=50,range=[[0, 1000], [-0.1, 0.2]])\n",
    "    Results[-1].append(counts)\n",
    "\n",
    "\n",
    "Results = np.array(Results)\n",
    "Results = np.swapaxes(Results,0,2)\n",
    "Results = np.swapaxes(Results,1,3)\n",
    "Results = np.swapaxes(Results,2,3)\n"
   ]
  },
  {
   "cell_type": "code",
   "execution_count": 6,
   "metadata": {},
   "outputs": [
    {
     "data": {
      "image/png": "[encoded data removed]",
      "text/plain": [
       "<Figure size 165x354 with 1 Axes>"
      ]
     },
     "metadata": {
      "needs_background": "light"
     },
     "output_type": "display_data"
    }
   ],
   "source": [
    "plt.style.use('paper')\n",
    "Speeds = np.arange(1.0,1.01,0.25)\n",
    "\n",
    "Rotate=False\n",
    "Results_new = deepcopy(Results)\n",
    "y = np.linspace(0,1000,50)\n",
    "\n",
    "matplotlib.rcParams.update({'font.size': 8})\n",
    "\n",
    "iLRDs = len(s_lrds)\n",
    "if Rotate:\n",
    "    fig1, ax1 = plt.subplots(nrows=1,ncols=len(Speeds),sharex=True,sharey=True,figsize=(6.5/5.*len(Speeds),3.15/5.))\n",
    "    ax1.invert_yaxis()  # Invert y axis\n",
    "else:\n",
    "    fig1, ax1 = plt.subplots(nrows=1,ncols=len(Speeds),sharex=True,sharey=True,figsize=(0.55*len(Speeds),1.18))\n",
    "ifig = 1\n",
    "\n",
    "\n",
    "AllBranchPlots = []\n",
    "\n",
    "for ispeed,speed in enumerate(Speeds):\n",
    "\n",
    "    Result_filter = np.zeros((50,iLRDs))\n",
    "    for ilrd, lrd in enumerate(s_lrds):\n",
    "    \n",
    "        aaa = np.mean(Results_new[:,:,ilrd,ispeed],axis=1)\n",
    "        Result_filter[:,ilrd] =  (aaa - np.min(aaa))/(np.max(aaa) - np.min(aaa))\n",
    "\n",
    "    x = np.append(s_lrds,s_lrds[-1]+np.diff(s_lrds)[0])\n",
    "\n",
    "    z = Result_filter\n",
    "\n",
    "    if Rotate:\n",
    "        ax1.pcolor(y,x,z.T,rasterized=True)\n",
    "\n",
    "    else:\n",
    "        ax1.pcolor(x,y,z,rasterized=True)\n",
    "\n",
    "    AllBranchPlots.append(Result_filter)\n",
    "    TLabel = []\n",
    "    x1 = x\n",
    "    y1 = x1/2.0\n",
    "    y2 = -y1\n",
    "\n",
    "    ax1.tick_params(pad=1)\n",
    "\n",
    "    ax1.spines['right'].set_visible(False)\n",
    "    ax1.spines['top'].set_visible(False)\n",
    "    ax1.spines['bottom'].set_visible(False)\n",
    "    ax1.spines['left'].set_visible(False)\n",
    "    \n",
    "    ax1.set_xticks([0,255,510])\n",
    "    ax1.set_xticklabels(['0','0.05','0.1'])\n",
    "    ax1.set_yticks([0,250,500,750,1000])\n",
    "    ax1.set_yticklabels(['-0.1','-0.05','0','0.05','0.1'])\n",
    "    ax1.axis('equal')\n",
    "\n",
    "\n",
    "if Rotate:\n",
    "    fig1.text(0.5,-0.35, r'$LRD_{RealFish_to_Center}$ (m)', ha=\"center\", va=\"center\",fontsize = 8)\n",
    "    fig1.text(0.07,0.5, r'$LRD_{VirtualFish}$ (m)', ha=\"center\", va=\"center\", rotation=90,fontsize = 8)\n",
    "else:\n",
    "    fig1.subplots_adjust(left=0.01, right=1,  bottom=0.1,  top=1.0, wspace=0.1, hspace=0)\n",
    "fig1.show()\n"
   ]
  },
  {
   "cell_type": "code",
   "execution_count": null,
   "metadata": {},
   "outputs": [],
   "source": []
  }
 ],
 "metadata": {
  "interpreter": {
   "hash": "8c120e44f289b7a13ea6aaf608fb8385715b367419f5a317e56cf1e87522007f"
  },
  "kernelspec": {
   "display_name": "Python 3",
   "language": "python",
   "name": "python3"
  },
  "language_info": {
   "codemirror_mode": {
    "name": "ipython",
    "version": 3
   },
   "file_extension": ".py",
   "mimetype": "text/x-python",
   "name": "python",
   "nbconvert_exporter": "python",
   "pygments_lexer": "ipython3",
   "version": "3.7.1"
  }
 },
 "nbformat": 4,
 "nbformat_minor": 4
}
